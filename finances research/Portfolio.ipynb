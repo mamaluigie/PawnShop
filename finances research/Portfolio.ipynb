{
 "cells": [
  {
   "cell_type": "code",
   "execution_count": null,
   "id": "40f656b6-47bb-4885-bbc5-d6f78424e093",
   "metadata": {},
   "outputs": [],
   "source": [
    "# Calculate a current sharpe ratio for the \n",
    "# portfolio that I currently have\n",
    "\n",
    "# To do this I will have to get data on each\n",
    "# of the stocks through yahoo finance and calculate\n",
    "# the sharpe based off of that"
   ]
  },
  {
   "cell_type": "code",
   "execution_count": 2,
   "id": "92e849c8-2110-4c21-a2b4-6925acb38961",
   "metadata": {},
   "outputs": [],
   "source": [
    "import yfinance as yf"
   ]
  },
  {
   "cell_type": "code",
   "execution_count": null,
   "id": "692000ea-3930-42d8-ac6d-4a6b9f8b07ad",
   "metadata": {},
   "outputs": [],
   "source": [
    "# The risk is going to be calculated based off of the \n",
    "def calculate_risk():\n",
    "    pass"
   ]
  },
  {
   "cell_type": "code",
   "execution_count": null,
   "id": "8ab60c3a-51ed-481f-8953-968960064dd3",
   "metadata": {},
   "outputs": [],
   "source": [
    "def calculate_sharpe():\n",
    "    pass"
   ]
  },
  {
   "cell_type": "code",
   "execution_count": null,
   "id": "8c5f5b4d-d055-40e8-8525-2181fcea805c",
   "metadata": {},
   "outputs": [],
   "source": [
    "\n",
    "# This is the central location where \n",
    "\n",
    "def main():\n",
    "    "
   ]
  }
 ],
 "metadata": {
  "kernelspec": {
   "display_name": "Python 3 (ipykernel)",
   "language": "python",
   "name": "python3"
  },
  "language_info": {
   "codemirror_mode": {
    "name": "ipython",
    "version": 3
   },
   "file_extension": ".py",
   "mimetype": "text/x-python",
   "name": "python",
   "nbconvert_exporter": "python",
   "pygments_lexer": "ipython3",
   "version": "3.12.3"
  }
 },
 "nbformat": 4,
 "nbformat_minor": 5
}
